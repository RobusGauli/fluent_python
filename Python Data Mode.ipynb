{
 "cells": [
  {
   "cell_type": "code",
   "execution_count": 92,
   "metadata": {
    "collapsed": false
   },
   "outputs": [],
   "source": [
    "#deck of cards\n",
    "\n",
    "class Card(tuple):\n",
    "    \n",
    "    def __init__(self,rank,suit):\n",
    "        self.rank = rank\n",
    "        self.suit = suit\n",
    "        \n",
    "    def __repr__(self):\n",
    "        return \"Card({0}, {1})\".format(self.rank,self.suit)\n",
    "    \n",
    "    \n",
    "\n",
    "class Deck(object):\n",
    "    \n",
    "    ranks = [i for i in range(2,11)] + list(\"JQKA\")\n",
    "    suits = \"Spades Hearts Diamonds Cubes\".split()\n",
    "    \n",
    "    def __init__(self):\n",
    "        self._cards = [Card(rank,suit) for rank in self.ranks for suit in self.suits]\n",
    "    \n",
    "    def __getitem__(self,position):\n",
    "        return self._cards[position]\n",
    "    \n",
    "    def __len__(self):\n",
    "        return len(self._cards)\n",
    "    \n",
    "    def __contains__(self,card):\n",
    "        return card.rank in self.ranks and card.suit in self.suits\n",
    "    \n",
    "    \n",
    "    \n",
    "    \n",
    "    \n",
    "    "
   ]
  },
  {
   "cell_type": "code",
   "execution_count": 70,
   "metadata": {
    "collapsed": false
   },
   "outputs": [
    {
     "data": {
      "text/plain": [
       "[Card(2, Spades),\n",
       " Card(2, Hearts),\n",
       " Card(2, Diamonds),\n",
       " Card(2, Cubes),\n",
       " Card(3, Spades),\n",
       " Card(3, Hearts),\n",
       " Card(3, Diamonds),\n",
       " Card(3, Cubes),\n",
       " Card(4, Spades),\n",
       " Card(4, Hearts),\n",
       " Card(4, Diamonds),\n",
       " Card(4, Cubes),\n",
       " Card(5, Spades),\n",
       " Card(5, Hearts),\n",
       " Card(5, Diamonds),\n",
       " Card(5, Cubes),\n",
       " Card(6, Spades),\n",
       " Card(6, Hearts),\n",
       " Card(6, Diamonds),\n",
       " Card(6, Cubes),\n",
       " Card(7, Spades),\n",
       " Card(7, Hearts),\n",
       " Card(7, Diamonds),\n",
       " Card(7, Cubes),\n",
       " Card(8, Spades),\n",
       " Card(8, Hearts),\n",
       " Card(8, Diamonds),\n",
       " Card(8, Cubes),\n",
       " Card(9, Spades),\n",
       " Card(9, Hearts),\n",
       " Card(9, Diamonds),\n",
       " Card(9, Cubes),\n",
       " Card(10, Spades),\n",
       " Card(10, Hearts),\n",
       " Card(10, Diamonds),\n",
       " Card(10, Cubes),\n",
       " Card(J, Spades),\n",
       " Card(J, Hearts),\n",
       " Card(J, Diamonds),\n",
       " Card(J, Cubes),\n",
       " Card(Q, Spades),\n",
       " Card(Q, Hearts),\n",
       " Card(Q, Diamonds),\n",
       " Card(Q, Cubes),\n",
       " Card(K, Spades),\n",
       " Card(K, Hearts),\n",
       " Card(K, Diamonds),\n",
       " Card(K, Cubes),\n",
       " Card(A, Spades),\n",
       " Card(A, Hearts),\n",
       " Card(A, Diamonds),\n",
       " Card(A, Cubes)]"
      ]
     },
     "execution_count": 70,
     "metadata": {},
     "output_type": "execute_result"
    }
   ],
   "source": [
    "deck = Deck()\n",
    "deck._cards"
   ]
  },
  {
   "cell_type": "code",
   "execution_count": 71,
   "metadata": {
    "collapsed": false
   },
   "outputs": [
    {
     "data": {
      "text/plain": [
       "52"
      ]
     },
     "execution_count": 71,
     "metadata": {},
     "output_type": "execute_result"
    }
   ],
   "source": [
    "len(deck)"
   ]
  },
  {
   "cell_type": "code",
   "execution_count": 72,
   "metadata": {
    "collapsed": false
   },
   "outputs": [
    {
     "data": {
      "text/plain": [
       "Card(2, Cubes)"
      ]
     },
     "execution_count": 72,
     "metadata": {},
     "output_type": "execute_result"
    }
   ],
   "source": [
    "deck[3]"
   ]
  },
  {
   "cell_type": "code",
   "execution_count": 73,
   "metadata": {
    "collapsed": false
   },
   "outputs": [
    {
     "data": {
      "text/plain": [
       "Card(2, Spades)"
      ]
     },
     "execution_count": 73,
     "metadata": {},
     "output_type": "execute_result"
    }
   ],
   "source": [
    "deck[0]"
   ]
  },
  {
   "cell_type": "code",
   "execution_count": 74,
   "metadata": {
    "collapsed": false
   },
   "outputs": [
    {
     "data": {
      "text/plain": [
       "Card(A, Cubes)"
      ]
     },
     "execution_count": 74,
     "metadata": {},
     "output_type": "execute_result"
    }
   ],
   "source": [
    "deck[-1]"
   ]
  },
  {
   "cell_type": "code",
   "execution_count": 75,
   "metadata": {
    "collapsed": false
   },
   "outputs": [
    {
     "data": {
      "text/plain": [
       "[Card(3, Spades),\n",
       " Card(3, Hearts),\n",
       " Card(3, Diamonds),\n",
       " Card(3, Cubes),\n",
       " Card(4, Spades),\n",
       " Card(4, Hearts),\n",
       " Card(4, Diamonds),\n",
       " Card(4, Cubes),\n",
       " Card(5, Spades),\n",
       " Card(5, Hearts),\n",
       " Card(5, Diamonds),\n",
       " Card(5, Cubes),\n",
       " Card(6, Spades),\n",
       " Card(6, Hearts),\n",
       " Card(6, Diamonds),\n",
       " Card(6, Cubes),\n",
       " Card(7, Spades),\n",
       " Card(7, Hearts),\n",
       " Card(7, Diamonds),\n",
       " Card(7, Cubes),\n",
       " Card(8, Spades),\n",
       " Card(8, Hearts),\n",
       " Card(8, Diamonds),\n",
       " Card(8, Cubes),\n",
       " Card(9, Spades),\n",
       " Card(9, Hearts),\n",
       " Card(9, Diamonds),\n",
       " Card(9, Cubes),\n",
       " Card(10, Spades),\n",
       " Card(10, Hearts),\n",
       " Card(10, Diamonds),\n",
       " Card(10, Cubes),\n",
       " Card(J, Spades),\n",
       " Card(J, Hearts),\n",
       " Card(J, Diamonds),\n",
       " Card(J, Cubes),\n",
       " Card(Q, Spades),\n",
       " Card(Q, Hearts),\n",
       " Card(Q, Diamonds),\n",
       " Card(Q, Cubes),\n",
       " Card(K, Spades)]"
      ]
     },
     "execution_count": 75,
     "metadata": {},
     "output_type": "execute_result"
    }
   ],
   "source": [
    "deck[4:45]"
   ]
  },
  {
   "cell_type": "code",
   "execution_count": 76,
   "metadata": {
    "collapsed": false
   },
   "outputs": [
    {
     "data": {
      "text/plain": [
       "Card(A, Diamonds)"
      ]
     },
     "execution_count": 76,
     "metadata": {},
     "output_type": "execute_result"
    }
   ],
   "source": [
    "from random import choice\n",
    "random_card = choice(deck)\n",
    "random_card"
   ]
  },
  {
   "cell_type": "code",
   "execution_count": 77,
   "metadata": {
    "collapsed": false
   },
   "outputs": [
    {
     "data": {
      "text/plain": [
       "__main__.Card"
      ]
     },
     "execution_count": 77,
     "metadata": {},
     "output_type": "execute_result"
    }
   ],
   "source": [
    "type(random_card)"
   ]
  },
  {
   "cell_type": "code",
   "execution_count": 78,
   "metadata": {
    "collapsed": false
   },
   "outputs": [
    {
     "data": {
      "text/plain": [
       "'A'"
      ]
     },
     "execution_count": 78,
     "metadata": {},
     "output_type": "execute_result"
    }
   ],
   "source": [
    "random_card.rank"
   ]
  },
  {
   "cell_type": "code",
   "execution_count": 79,
   "metadata": {
    "collapsed": false
   },
   "outputs": [
    {
     "data": {
      "text/plain": [
       "'Diamonds'"
      ]
     },
     "execution_count": 79,
     "metadata": {},
     "output_type": "execute_result"
    }
   ],
   "source": [
    "random_card.suit"
   ]
  },
  {
   "cell_type": "code",
   "execution_count": 80,
   "metadata": {
    "collapsed": false
   },
   "outputs": [
    {
     "data": {
      "text/plain": [
       "True"
      ]
     },
     "execution_count": 80,
     "metadata": {},
     "output_type": "execute_result"
    }
   ],
   "source": [
    "Card(9,\"Diamonds\") in deck"
   ]
  },
  {
   "cell_type": "code",
   "execution_count": 81,
   "metadata": {
    "collapsed": false
   },
   "outputs": [
    {
     "data": {
      "text/plain": [
       "False"
      ]
     },
     "execution_count": 81,
     "metadata": {},
     "output_type": "execute_result"
    }
   ],
   "source": [
    "Card(56,\"Diamonds\") in deck"
   ]
  },
  {
   "cell_type": "code",
   "execution_count": 82,
   "metadata": {
    "collapsed": false
   },
   "outputs": [
    {
     "data": {
      "text/plain": [
       "True"
      ]
     },
     "execution_count": 82,
     "metadata": {},
     "output_type": "execute_result"
    }
   ],
   "source": [
    "Card(6,\"Hearts\") in deck"
   ]
  },
  {
   "cell_type": "code",
   "execution_count": 83,
   "metadata": {
    "collapsed": false
   },
   "outputs": [
    {
     "data": {
      "text/plain": [
       "True"
      ]
     },
     "execution_count": 83,
     "metadata": {},
     "output_type": "execute_result"
    }
   ],
   "source": [
    "deck = Deck()\n",
    "\n",
    "\n",
    "Card(4,\"Hearts\") in deck"
   ]
  },
  {
   "cell_type": "code",
   "execution_count": 84,
   "metadata": {
    "collapsed": false
   },
   "outputs": [
    {
     "data": {
      "text/plain": [
       "Card(A, Cubes)"
      ]
     },
     "execution_count": 84,
     "metadata": {},
     "output_type": "execute_result"
    }
   ],
   "source": [
    "deck._cards.pop()"
   ]
  },
  {
   "cell_type": "code",
   "execution_count": 85,
   "metadata": {
    "collapsed": false
   },
   "outputs": [
    {
     "data": {
      "text/plain": [
       "51"
      ]
     },
     "execution_count": 85,
     "metadata": {},
     "output_type": "execute_result"
    }
   ],
   "source": [
    "len(deck._cards)"
   ]
  },
  {
   "cell_type": "code",
   "execution_count": 86,
   "metadata": {
    "collapsed": false
   },
   "outputs": [
    {
     "data": {
      "text/plain": [
       "True"
      ]
     },
     "execution_count": 86,
     "metadata": {},
     "output_type": "execute_result"
    }
   ],
   "source": [
    "Card(\"A\",\"Cubes\") in deck"
   ]
  },
  {
   "cell_type": "code",
   "execution_count": 87,
   "metadata": {
    "collapsed": false
   },
   "outputs": [
    {
     "data": {
      "text/plain": [
       "51"
      ]
     },
     "execution_count": 87,
     "metadata": {},
     "output_type": "execute_result"
    }
   ],
   "source": [
    "len(deck._cards)"
   ]
  },
  {
   "cell_type": "code",
   "execution_count": 88,
   "metadata": {
    "collapsed": false
   },
   "outputs": [
    {
     "data": {
      "text/plain": [
       "True"
      ]
     },
     "execution_count": 88,
     "metadata": {},
     "output_type": "execute_result"
    }
   ],
   "source": [
    "Card(\"A\",\"Cubes\") in deck"
   ]
  },
  {
   "cell_type": "code",
   "execution_count": 90,
   "metadata": {
    "collapsed": false
   },
   "outputs": [
    {
     "data": {
      "text/plain": [
       "['Spades', 'Hearts', 'Diamonds', 'Cubes']"
      ]
     },
     "execution_count": 90,
     "metadata": {},
     "output_type": "execute_result"
    }
   ],
   "source": [
    "deck.suits"
   ]
  },
  {
   "cell_type": "code",
   "execution_count": 91,
   "metadata": {
    "collapsed": false
   },
   "outputs": [
    {
     "data": {
      "text/plain": [
       "[2, 3, 4, 5, 6, 7, 8, 9, 10, 'J', 'Q', 'K', 'A']"
      ]
     },
     "execution_count": 91,
     "metadata": {},
     "output_type": "execute_result"
    }
   ],
   "source": [
    "deck.ranks"
   ]
  },
  {
   "cell_type": "code",
   "execution_count": 140,
   "metadata": {
    "collapsed": false
   },
   "outputs": [
    {
     "data": {
      "text/plain": [
       "True"
      ]
     },
     "execution_count": 140,
     "metadata": {},
     "output_type": "execute_result"
    }
   ],
   "source": [
    "\n"
   ]
  },
  {
   "cell_type": "code",
   "execution_count": 104,
   "metadata": {
    "collapsed": false
   },
   "outputs": [
    {
     "data": {
      "text/plain": [
       "('A', 's', 'd', 'a', 's', 'd')"
      ]
     },
     "execution_count": 104,
     "metadata": {},
     "output_type": "execute_result"
    }
   ],
   "source": [
    "tuple(\"Asdasd\")"
   ]
  },
  {
   "cell_type": "code",
   "execution_count": 147,
   "metadata": {
    "collapsed": false
   },
   "outputs": [],
   "source": [
    "class Card(tuple):\n",
    "    \n",
    "    def __init__(self,card):\n",
    "        self.rank, self.suit = card\n",
    "        \n",
    "class Deck(object):\n",
    "    \n",
    "    ranks = [i for i in range(2,11)] + list(\"JQKA\")\n",
    "    suits = \"spades hearts cubes diamonds\".split()\n",
    "    \n",
    "    def __init__(self):\n",
    "        self._cards = [Card((rank,suit)) for rank in self.ranks for suit in self.suits]\n",
    "    \n",
    "    def __getitem__(self,position):\n",
    "        return self._cards[position]\n",
    "    \n",
    "    def __len__(self):\n",
    "        return len(self._cards)\n",
    "    \n",
    "    \n"
   ]
  },
  {
   "cell_type": "code",
   "execution_count": 153,
   "metadata": {
    "collapsed": false
   },
   "outputs": [
    {
     "name": "stdout",
     "output_type": "stream",
     "text": [
      "(2, 'spades') (2, 'hearts') (2, 'cubes') (2, 'diamonds') (3, 'spades') (3, 'hearts') (3, 'cubes') (3, 'diamonds') (4, 'spades') (4, 'hearts') (4, 'cubes') (4, 'diamonds') (5, 'spades') (5, 'hearts') (5, 'cubes') (5, 'diamonds') (6, 'spades') (6, 'hearts') (6, 'cubes') (6, 'diamonds') (7, 'spades') (7, 'hearts') (7, 'cubes') (7, 'diamonds') (8, 'spades') (8, 'hearts') (8, 'cubes') (8, 'diamonds') (9, 'spades') (9, 'hearts') (9, 'cubes') (9, 'diamonds') (10, 'spades') (10, 'hearts') (10, 'cubes') (10, 'diamonds') ('J', 'spades') ('J', 'hearts') ('J', 'cubes') ('J', 'diamonds') ('Q', 'spades') ('Q', 'hearts') ('Q', 'cubes') ('Q', 'diamonds') ('K', 'spades') ('K', 'hearts') ('K', 'cubes') ('K', 'diamonds') ('A', 'spades') ('A', 'hearts') ('A', 'cubes') ('A', 'diamonds') "
     ]
    }
   ],
   "source": [
    "deck = Deck()\n",
    "\n",
    "for card in deck:\n",
    "    print(card,end  = \" \")"
   ]
  },
  {
   "cell_type": "code",
   "execution_count": 154,
   "metadata": {
    "collapsed": false
   },
   "outputs": [
    {
     "data": {
      "text/plain": [
       "52"
      ]
     },
     "execution_count": 154,
     "metadata": {},
     "output_type": "execute_result"
    }
   ],
   "source": [
    "len(deck)"
   ]
  },
  {
   "cell_type": "code",
   "execution_count": 155,
   "metadata": {
    "collapsed": false
   },
   "outputs": [
    {
     "data": {
      "text/plain": [
       "[(2, 'spades'),\n",
       " (2, 'hearts'),\n",
       " (2, 'cubes'),\n",
       " (2, 'diamonds'),\n",
       " (3, 'spades'),\n",
       " (3, 'hearts'),\n",
       " (3, 'cubes'),\n",
       " (3, 'diamonds'),\n",
       " (4, 'spades'),\n",
       " (4, 'hearts'),\n",
       " (4, 'cubes'),\n",
       " (4, 'diamonds'),\n",
       " (5, 'spades'),\n",
       " (5, 'hearts')]"
      ]
     },
     "execution_count": 155,
     "metadata": {},
     "output_type": "execute_result"
    }
   ],
   "source": [
    "deck[0:14]"
   ]
  },
  {
   "cell_type": "code",
   "execution_count": 157,
   "metadata": {
    "collapsed": false
   },
   "outputs": [
    {
     "data": {
      "text/plain": [
       "True"
      ]
     },
     "execution_count": 157,
     "metadata": {},
     "output_type": "execute_result"
    }
   ],
   "source": [
    "Card((2,\"spades\")) in deck"
   ]
  },
  {
   "cell_type": "code",
   "execution_count": 158,
   "metadata": {
    "collapsed": false
   },
   "outputs": [
    {
     "data": {
      "text/plain": [
       "('A', 'diamonds')"
      ]
     },
     "execution_count": 158,
     "metadata": {},
     "output_type": "execute_result"
    }
   ],
   "source": [
    "#lets pop the last card\n",
    "deck._cards.pop()"
   ]
  },
  {
   "cell_type": "code",
   "execution_count": 159,
   "metadata": {
    "collapsed": false
   },
   "outputs": [
    {
     "data": {
      "text/plain": [
       "51"
      ]
     },
     "execution_count": 159,
     "metadata": {},
     "output_type": "execute_result"
    }
   ],
   "source": [
    "len(deck)"
   ]
  },
  {
   "cell_type": "code",
   "execution_count": 160,
   "metadata": {
    "collapsed": false
   },
   "outputs": [
    {
     "data": {
      "text/plain": [
       "False"
      ]
     },
     "execution_count": 160,
     "metadata": {},
     "output_type": "execute_result"
    }
   ],
   "source": [
    "Card((\"A\",\"diamonds\")) in deck"
   ]
  },
  {
   "cell_type": "code",
   "execution_count": 166,
   "metadata": {
    "collapsed": false
   },
   "outputs": [
    {
     "data": {
      "text/plain": [
       "52"
      ]
     },
     "execution_count": 166,
     "metadata": {},
     "output_type": "execute_result"
    }
   ],
   "source": [
    "len(clist)"
   ]
  },
  {
   "cell_type": "code",
   "execution_count": 205,
   "metadata": {
    "collapsed": false
   },
   "outputs": [
    {
     "data": {
      "text/plain": [
       "[(2, 'cubes'),\n",
       " (2, 'diamonds'),\n",
       " (2, 'hearts'),\n",
       " (2, 'spades'),\n",
       " (3, 'cubes'),\n",
       " (3, 'diamonds'),\n",
       " (4, 'diamonds'),\n",
       " (4, 'spades'),\n",
       " (5, 'diamonds'),\n",
       " (5, 'spades'),\n",
       " (6, 'cubes'),\n",
       " (6, 'diamonds'),\n",
       " (7, 'cubes'),\n",
       " (7, 'diamonds'),\n",
       " (8, 'cubes'),\n",
       " (8, 'diamonds'),\n",
       " (8, 'spades'),\n",
       " (9, 'cubes'),\n",
       " (9, 'hearts'),\n",
       " (9, 'spades'),\n",
       " (10, 'cubes'),\n",
       " (10, 'diamonds'),\n",
       " (10, 'hearts'),\n",
       " (10, 'spades'),\n",
       " ('J', 'cubes'),\n",
       " ('J', 'diamonds'),\n",
       " ('J', 'hearts'),\n",
       " ('J', 'spades'),\n",
       " ('Q', 'cubes'),\n",
       " ('Q', 'diamonds'),\n",
       " ('Q', 'hearts'),\n",
       " ('Q', 'spades'),\n",
       " ('K', 'cubes'),\n",
       " ('K', 'diamonds'),\n",
       " ('K', 'hearts'),\n",
       " ('K', 'spades'),\n",
       " ('A', 'cubes'),\n",
       " ('A', 'hearts'),\n",
       " ('A', 'spades')]"
      ]
     },
     "execution_count": 205,
     "metadata": {},
     "output_type": "execute_result"
    }
   ],
   "source": [
    "#lets sort the card of which spade > heart > diamonds> cubes \n",
    "weight = {\"spades\" : 4, \"hearts\" : 3, \"diamonds\" : 2, \"cubes\" : 1}\n",
    "\n",
    "def sortingkey(card):\n",
    "    \n",
    "    rank_value =  Deck.ranks.index(card.rank) * 10 + weight[card.suit]\n",
    "    return rank_value\n",
    "sorted(deck._cards,key = sortingkey)\n",
    "    "
   ]
  },
  {
   "cell_type": "code",
   "execution_count": 178,
   "metadata": {
    "collapsed": false
   },
   "outputs": [
    {
     "data": {
      "text/plain": [
       "[(2, 'cubes'),\n",
       " (2, 'diamonds'),\n",
       " (2, 'hearts'),\n",
       " (2, 'spades'),\n",
       " (3, 'cubes'),\n",
       " (3, 'diamonds'),\n",
       " (3, 'hearts'),\n",
       " (3, 'spades'),\n",
       " (4, 'cubes'),\n",
       " (4, 'diamonds'),\n",
       " (4, 'hearts'),\n",
       " (4, 'spades'),\n",
       " (5, 'cubes'),\n",
       " (5, 'diamonds'),\n",
       " (5, 'hearts'),\n",
       " (5, 'spades'),\n",
       " (6, 'cubes'),\n",
       " (6, 'diamonds'),\n",
       " (6, 'hearts'),\n",
       " (6, 'spades'),\n",
       " (7, 'cubes'),\n",
       " (7, 'diamonds'),\n",
       " (7, 'hearts'),\n",
       " (7, 'spades'),\n",
       " (8, 'cubes'),\n",
       " (8, 'diamonds'),\n",
       " (8, 'hearts'),\n",
       " (8, 'spades'),\n",
       " (9, 'cubes'),\n",
       " (9, 'diamonds'),\n",
       " (9, 'hearts'),\n",
       " (9, 'spades'),\n",
       " (10, 'cubes'),\n",
       " (10, 'diamonds'),\n",
       " (10, 'hearts'),\n",
       " (10, 'spades'),\n",
       " ('J', 'cubes'),\n",
       " ('J', 'diamonds'),\n",
       " ('J', 'hearts'),\n",
       " ('J', 'spades'),\n",
       " ('Q', 'cubes'),\n",
       " ('Q', 'diamonds'),\n",
       " ('Q', 'hearts'),\n",
       " ('Q', 'spades'),\n",
       " ('K', 'cubes'),\n",
       " ('K', 'diamonds'),\n",
       " ('K', 'hearts'),\n",
       " ('K', 'spades'),\n",
       " ('A', 'cubes'),\n",
       " ('A', 'hearts'),\n",
       " ('A', 'spades')]"
      ]
     },
     "execution_count": 178,
     "metadata": {},
     "output_type": "execute_result"
    }
   ],
   "source": [
    "deck._cards.sort(key = sortingkey)\n",
    "deck._cards"
   ]
  },
  {
   "cell_type": "code",
   "execution_count": 180,
   "metadata": {
    "collapsed": false
   },
   "outputs": [
    {
     "data": {
      "text/plain": [
       "[('A', 'spades'),\n",
       " ('A', 'hearts'),\n",
       " ('A', 'cubes'),\n",
       " ('K', 'spades'),\n",
       " ('K', 'hearts'),\n",
       " ('K', 'diamonds'),\n",
       " ('K', 'cubes'),\n",
       " ('Q', 'spades'),\n",
       " ('Q', 'hearts'),\n",
       " ('Q', 'diamonds'),\n",
       " ('Q', 'cubes'),\n",
       " ('J', 'spades'),\n",
       " ('J', 'hearts'),\n",
       " ('J', 'diamonds'),\n",
       " ('J', 'cubes'),\n",
       " (10, 'spades'),\n",
       " (10, 'hearts'),\n",
       " (10, 'diamonds'),\n",
       " (10, 'cubes'),\n",
       " (9, 'spades'),\n",
       " (9, 'hearts'),\n",
       " (9, 'diamonds'),\n",
       " (9, 'cubes'),\n",
       " (8, 'spades'),\n",
       " (8, 'hearts'),\n",
       " (8, 'diamonds'),\n",
       " (8, 'cubes'),\n",
       " (7, 'spades'),\n",
       " (7, 'hearts'),\n",
       " (7, 'diamonds'),\n",
       " (7, 'cubes'),\n",
       " (6, 'spades'),\n",
       " (6, 'hearts'),\n",
       " (6, 'diamonds'),\n",
       " (6, 'cubes'),\n",
       " (5, 'spades'),\n",
       " (5, 'hearts'),\n",
       " (5, 'diamonds'),\n",
       " (5, 'cubes'),\n",
       " (4, 'spades'),\n",
       " (4, 'hearts'),\n",
       " (4, 'diamonds'),\n",
       " (4, 'cubes'),\n",
       " (3, 'spades'),\n",
       " (3, 'hearts'),\n",
       " (3, 'diamonds'),\n",
       " (3, 'cubes'),\n",
       " (2, 'spades'),\n",
       " (2, 'hearts'),\n",
       " (2, 'diamonds'),\n",
       " (2, 'cubes')]"
      ]
     },
     "execution_count": 180,
     "metadata": {},
     "output_type": "execute_result"
    }
   ],
   "source": [
    "sorted_cards = list(reversed(deck))\n",
    "sorted_cards"
   ]
  },
  {
   "cell_type": "code",
   "execution_count": 193,
   "metadata": {
    "collapsed": false
   },
   "outputs": [
    {
     "data": {
      "text/plain": [
       "(8, 'hearts')"
      ]
     },
     "execution_count": 193,
     "metadata": {},
     "output_type": "execute_result"
    }
   ],
   "source": [
    "from random import choice\n",
    "import random\n",
    "deck._cards.pop(random.randint(1,20))\n"
   ]
  },
  {
   "cell_type": "code",
   "execution_count": 194,
   "metadata": {
    "collapsed": false
   },
   "outputs": [
    {
     "data": {
      "text/plain": [
       "39"
      ]
     },
     "execution_count": 194,
     "metadata": {},
     "output_type": "execute_result"
    }
   ],
   "source": [
    "len(deck)"
   ]
  },
  {
   "cell_type": "code",
   "execution_count": 206,
   "metadata": {
    "collapsed": false
   },
   "outputs": [
    {
     "data": {
      "text/plain": [
       "'hearts'"
      ]
     },
     "execution_count": 206,
     "metadata": {},
     "output_type": "execute_result"
    }
   ],
   "source": [
    "new_deck = Deck()\n",
    "card = new_deck._cards[1]\n",
    "card.suit"
   ]
  },
  {
   "cell_type": "code",
   "execution_count": 242,
   "metadata": {
    "collapsed": false
   },
   "outputs": [],
   "source": [
    "class Vector(object):\n",
    "    \n",
    "    def __init__(self,x,y):\n",
    "        self.x = x\n",
    "        self.y = y\n",
    "        \n",
    "        \n",
    "    def __add__(self,other):\n",
    "        x = self.x + other.x\n",
    "        y = self.y + other.y\n",
    "        return Vector(x,y)\n",
    "    \n",
    "    def __mul__(self,number):\n",
    "        x = self.x * number\n",
    "        y = self.y * number\n",
    "        return Vector(x,y)\n",
    "    \n",
    "    def __abs__(self):\n",
    "        return abs(complex(self.x,self.y))\n",
    "    \n",
    "\n",
    "    def __repr__(self):\n",
    "        return \"Vector({}, {})\".format(self.x,self.y)"
   ]
  },
  {
   "cell_type": "code",
   "execution_count": 234,
   "metadata": {
    "collapsed": false
   },
   "outputs": [
    {
     "data": {
      "text/plain": [
       "Vector(6, 8)"
      ]
     },
     "execution_count": 234,
     "metadata": {},
     "output_type": "execute_result"
    }
   ],
   "source": [
    "v1 = Vector(3,4)\n",
    "v2 = Vector(3,4)\n",
    "v3 = v1+v2\n",
    "v3"
   ]
  },
  {
   "cell_type": "code",
   "execution_count": 244,
   "metadata": {
    "collapsed": false
   },
   "outputs": [
    {
     "data": {
      "text/plain": [
       "Vector(12, 15)"
      ]
     },
     "execution_count": 244,
     "metadata": {},
     "output_type": "execute_result"
    }
   ],
   "source": [
    "v = Vector(4,5)\n",
    "v*3"
   ]
  },
  {
   "cell_type": "code",
   "execution_count": 236,
   "metadata": {
    "collapsed": false
   },
   "outputs": [
    {
     "data": {
      "text/plain": [
       "63.63961030678928"
      ]
     },
     "execution_count": 236,
     "metadata": {},
     "output_type": "execute_result"
    }
   ],
   "source": [
    "abs(45 + 45j)"
   ]
  },
  {
   "cell_type": "code",
   "execution_count": 245,
   "metadata": {
    "collapsed": false
   },
   "outputs": [
    {
     "data": {
      "text/plain": [
       "6.4031242374328485"
      ]
     },
     "execution_count": 245,
     "metadata": {},
     "output_type": "execute_result"
    }
   ],
   "source": [
    "abs(v)"
   ]
  },
  {
   "cell_type": "code",
   "execution_count": 241,
   "metadata": {
    "collapsed": false
   },
   "outputs": [
    {
     "data": {
      "text/plain": [
       "6.4031242374328485"
      ]
     },
     "execution_count": 241,
     "metadata": {},
     "output_type": "execute_result"
    }
   ],
   "source": [
    "c = complex(4,5)\n",
    "abs(c)"
   ]
  },
  {
   "cell_type": "code",
   "execution_count": 246,
   "metadata": {
    "collapsed": false
   },
   "outputs": [
    {
     "data": {
      "text/plain": [
       "5.0"
      ]
     },
     "execution_count": 246,
     "metadata": {},
     "output_type": "execute_result"
    }
   ],
   "source": [
    "v = Vector(3,4)\n",
    "abs(v)"
   ]
  },
  {
   "cell_type": "code",
   "execution_count": 247,
   "metadata": {
    "collapsed": false
   },
   "outputs": [
    {
     "data": {
      "text/plain": [
       "15.0"
      ]
     },
     "execution_count": 247,
     "metadata": {},
     "output_type": "execute_result"
    }
   ],
   "source": [
    "abs(v*3)"
   ]
  },
  {
   "cell_type": "code",
   "execution_count": 248,
   "metadata": {
    "collapsed": false
   },
   "outputs": [
    {
     "data": {
      "text/plain": [
       "True"
      ]
     },
     "execution_count": 248,
     "metadata": {},
     "output_type": "execute_result"
    }
   ],
   "source": [
    "bool(v)"
   ]
  },
  {
   "cell_type": "code",
   "execution_count": 251,
   "metadata": {
    "collapsed": false
   },
   "outputs": [
    {
     "data": {
      "text/plain": [
       "True"
      ]
     },
     "execution_count": 251,
     "metadata": {},
     "output_type": "execute_result"
    }
   ],
   "source": [
    "# boolean \n",
    "v = Vector(0,0)\n",
    "abs(v)\n",
    "bool(v)"
   ]
  },
  {
   "cell_type": "raw",
   "metadata": {},
   "source": [
    "By default, instances of user-defined classes are considered truthy, unless either\n",
    "__bool__ or __len__ is implemented. Basically, bool(x) calls x.__bool__() and uses\n",
    "the result. If __bool__ is not implemented, Python tries to invoke x.__len__(), and if\n",
    "that returns zero, bool returns False. Otherwise bool returns True.\n"
   ]
  },
  {
   "cell_type": "code",
   "execution_count": 255,
   "metadata": {
    "collapsed": true
   },
   "outputs": [],
   "source": [
    "# lets return false when Vector's magniture is zero\n",
    "\n",
    "class Vector(object):\n",
    "    \n",
    "    def __init__(self,x,y):\n",
    "        self.x = x\n",
    "        self.y = y\n",
    "    \n",
    "    def __add__(self,other):\n",
    "        return Vector(self.x+other.x, self.y+other.y)\n",
    "    \n",
    "    def __mul__(self,scalar):\n",
    "        return Vector(self.x * scalar,self.y * scalar)\n",
    "    \n",
    "    def __abs__(self):\n",
    "        return abs(complex(self.x,self.y))\n",
    "    \n",
    "    def __repr__(self):\n",
    "        return \"Vector({0}, {1})\".format(self.x,self.y)\n",
    "\n",
    "    def __bool__(self):\n",
    "        return bool(abs(self))\n",
    "    "
   ]
  },
  {
   "cell_type": "code",
   "execution_count": 256,
   "metadata": {
    "collapsed": false
   },
   "outputs": [
    {
     "data": {
      "text/plain": [
       "0.0"
      ]
     },
     "execution_count": 256,
     "metadata": {},
     "output_type": "execute_result"
    }
   ],
   "source": [
    "v = Vector(0,0)\n",
    "abs(v)"
   ]
  },
  {
   "cell_type": "code",
   "execution_count": 257,
   "metadata": {
    "collapsed": false
   },
   "outputs": [
    {
     "data": {
      "text/plain": [
       "False"
      ]
     },
     "execution_count": 257,
     "metadata": {},
     "output_type": "execute_result"
    }
   ],
   "source": [
    "bool(v)"
   ]
  },
  {
   "cell_type": "code",
   "execution_count": 258,
   "metadata": {
    "collapsed": false
   },
   "outputs": [
    {
     "data": {
      "text/plain": [
       "5.0"
      ]
     },
     "execution_count": 258,
     "metadata": {},
     "output_type": "execute_result"
    }
   ],
   "source": [
    "v = Vector(4,3)\n",
    "abs(v)"
   ]
  },
  {
   "cell_type": "code",
   "execution_count": 259,
   "metadata": {
    "collapsed": false
   },
   "outputs": [
    {
     "data": {
      "text/plain": [
       "True"
      ]
     },
     "execution_count": 259,
     "metadata": {},
     "output_type": "execute_result"
    }
   ],
   "source": [
    "bool(v)"
   ]
  }
 ],
 "metadata": {
  "anaconda-cloud": {},
  "kernelspec": {
   "display_name": "Python [conda root]",
   "language": "python",
   "name": "conda-root-py"
  },
  "language_info": {
   "codemirror_mode": {
    "name": "ipython",
    "version": 3
   },
   "file_extension": ".py",
   "mimetype": "text/x-python",
   "name": "python",
   "nbconvert_exporter": "python",
   "pygments_lexer": "ipython3",
   "version": "3.5.2"
  }
 },
 "nbformat": 4,
 "nbformat_minor": 1
}
